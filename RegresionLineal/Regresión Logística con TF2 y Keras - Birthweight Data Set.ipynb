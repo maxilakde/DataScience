{
 "cells": [
  {
   "cell_type": "code",
   "execution_count": 1,
   "id": "29de4b32",
   "metadata": {},
   "outputs": [],
   "source": [
    "import matplotlib.pyplot as plt\n",
    "import numpy as np\n",
    "import pandas as pd\n",
    "import tensorflow as tf\n",
    "from sklearn.model_selection import train_test_split\n",
    "from tensorflow import keras\n",
    "from tensorflow.keras import layers\n",
    "from tensorflow.keras.models import Model\n",
    "from sklearn import preprocessing\n",
    "import requests\n",
    "import io"
   ]
  },
  {
   "cell_type": "code",
   "execution_count": 2,
   "id": "ecc0d694",
   "metadata": {},
   "outputs": [
    {
     "data": {
      "text/plain": [
       "'2.3.0'"
      ]
     },
     "execution_count": 2,
     "metadata": {},
     "output_type": "execute_result"
    }
   ],
   "source": [
    "tf.__version__"
   ]
  },
  {
   "cell_type": "markdown",
   "id": "239573bd",
   "metadata": {},
   "source": [
    "### Preprocesamos la info"
   ]
  },
  {
   "cell_type": "code",
   "execution_count": 3,
   "id": "21cff041",
   "metadata": {},
   "outputs": [],
   "source": [
    "url = \"https://raw.githubusercontent.com/joanby/tensorflow/master/datasets/birthweight.dat?token=AMRAeMNwZBLC86UzdMdxEuhlGPMufKa5ks5cVIdzwA%3D%3D\"\n",
    "urlData = requests.get(url).content"
   ]
  },
  {
   "cell_type": "code",
   "execution_count": 4,
   "id": "8ae9c430",
   "metadata": {},
   "outputs": [],
   "source": [
    "rawData = pd.read_csv(io.StringIO(urlData.decode('utf-8')), sep='\\t')"
   ]
  },
  {
   "cell_type": "code",
   "execution_count": 5,
   "id": "78a6b287",
   "metadata": {},
   "outputs": [
    {
     "data": {
      "text/html": [
       "<div>\n",
       "<style scoped>\n",
       "    .dataframe tbody tr th:only-of-type {\n",
       "        vertical-align: middle;\n",
       "    }\n",
       "\n",
       "    .dataframe tbody tr th {\n",
       "        vertical-align: top;\n",
       "    }\n",
       "\n",
       "    .dataframe thead th {\n",
       "        text-align: right;\n",
       "    }\n",
       "</style>\n",
       "<table border=\"1\" class=\"dataframe\">\n",
       "  <thead>\n",
       "    <tr style=\"text-align: right;\">\n",
       "      <th></th>\n",
       "      <th>LOW</th>\n",
       "      <th>AGE</th>\n",
       "      <th>LWT</th>\n",
       "      <th>RACE</th>\n",
       "      <th>SMOKE</th>\n",
       "      <th>PTL</th>\n",
       "      <th>HT</th>\n",
       "      <th>UI</th>\n",
       "      <th>BWT</th>\n",
       "    </tr>\n",
       "  </thead>\n",
       "  <tbody>\n",
       "    <tr>\n",
       "      <th>0</th>\n",
       "      <td>1</td>\n",
       "      <td>28</td>\n",
       "      <td>113</td>\n",
       "      <td>1</td>\n",
       "      <td>1</td>\n",
       "      <td>1</td>\n",
       "      <td>0</td>\n",
       "      <td>1</td>\n",
       "      <td>709</td>\n",
       "    </tr>\n",
       "    <tr>\n",
       "      <th>1</th>\n",
       "      <td>1</td>\n",
       "      <td>29</td>\n",
       "      <td>130</td>\n",
       "      <td>0</td>\n",
       "      <td>0</td>\n",
       "      <td>0</td>\n",
       "      <td>0</td>\n",
       "      <td>1</td>\n",
       "      <td>1021</td>\n",
       "    </tr>\n",
       "    <tr>\n",
       "      <th>2</th>\n",
       "      <td>1</td>\n",
       "      <td>34</td>\n",
       "      <td>187</td>\n",
       "      <td>1</td>\n",
       "      <td>1</td>\n",
       "      <td>0</td>\n",
       "      <td>1</td>\n",
       "      <td>0</td>\n",
       "      <td>1135</td>\n",
       "    </tr>\n",
       "    <tr>\n",
       "      <th>3</th>\n",
       "      <td>1</td>\n",
       "      <td>25</td>\n",
       "      <td>105</td>\n",
       "      <td>1</td>\n",
       "      <td>0</td>\n",
       "      <td>1</td>\n",
       "      <td>1</td>\n",
       "      <td>0</td>\n",
       "      <td>1330</td>\n",
       "    </tr>\n",
       "    <tr>\n",
       "      <th>4</th>\n",
       "      <td>1</td>\n",
       "      <td>25</td>\n",
       "      <td>85</td>\n",
       "      <td>1</td>\n",
       "      <td>0</td>\n",
       "      <td>0</td>\n",
       "      <td>0</td>\n",
       "      <td>1</td>\n",
       "      <td>1474</td>\n",
       "    </tr>\n",
       "    <tr>\n",
       "      <th>...</th>\n",
       "      <td>...</td>\n",
       "      <td>...</td>\n",
       "      <td>...</td>\n",
       "      <td>...</td>\n",
       "      <td>...</td>\n",
       "      <td>...</td>\n",
       "      <td>...</td>\n",
       "      <td>...</td>\n",
       "      <td>...</td>\n",
       "    </tr>\n",
       "    <tr>\n",
       "      <th>184</th>\n",
       "      <td>0</td>\n",
       "      <td>31</td>\n",
       "      <td>120</td>\n",
       "      <td>0</td>\n",
       "      <td>0</td>\n",
       "      <td>0</td>\n",
       "      <td>0</td>\n",
       "      <td>0</td>\n",
       "      <td>4167</td>\n",
       "    </tr>\n",
       "    <tr>\n",
       "      <th>185</th>\n",
       "      <td>0</td>\n",
       "      <td>35</td>\n",
       "      <td>170</td>\n",
       "      <td>0</td>\n",
       "      <td>0</td>\n",
       "      <td>1</td>\n",
       "      <td>0</td>\n",
       "      <td>0</td>\n",
       "      <td>4174</td>\n",
       "    </tr>\n",
       "    <tr>\n",
       "      <th>186</th>\n",
       "      <td>0</td>\n",
       "      <td>19</td>\n",
       "      <td>120</td>\n",
       "      <td>0</td>\n",
       "      <td>1</td>\n",
       "      <td>0</td>\n",
       "      <td>1</td>\n",
       "      <td>0</td>\n",
       "      <td>4238</td>\n",
       "    </tr>\n",
       "    <tr>\n",
       "      <th>187</th>\n",
       "      <td>0</td>\n",
       "      <td>24</td>\n",
       "      <td>216</td>\n",
       "      <td>0</td>\n",
       "      <td>0</td>\n",
       "      <td>0</td>\n",
       "      <td>0</td>\n",
       "      <td>0</td>\n",
       "      <td>4593</td>\n",
       "    </tr>\n",
       "    <tr>\n",
       "      <th>188</th>\n",
       "      <td>0</td>\n",
       "      <td>45</td>\n",
       "      <td>123</td>\n",
       "      <td>0</td>\n",
       "      <td>0</td>\n",
       "      <td>1</td>\n",
       "      <td>0</td>\n",
       "      <td>0</td>\n",
       "      <td>4990</td>\n",
       "    </tr>\n",
       "  </tbody>\n",
       "</table>\n",
       "<p>189 rows × 9 columns</p>\n",
       "</div>"
      ],
      "text/plain": [
       "     LOW  AGE  LWT  RACE  SMOKE  PTL  HT  UI   BWT\n",
       "0      1   28  113     1      1    1   0   1   709\n",
       "1      1   29  130     0      0    0   0   1  1021\n",
       "2      1   34  187     1      1    0   1   0  1135\n",
       "3      1   25  105     1      0    1   1   0  1330\n",
       "4      1   25   85     1      0    0   0   1  1474\n",
       "..   ...  ...  ...   ...    ...  ...  ..  ..   ...\n",
       "184    0   31  120     0      0    0   0   0  4167\n",
       "185    0   35  170     0      0    1   0   0  4174\n",
       "186    0   19  120     0      1    0   1   0  4238\n",
       "187    0   24  216     0      0    0   0   0  4593\n",
       "188    0   45  123     0      0    1   0   0  4990\n",
       "\n",
       "[189 rows x 9 columns]"
      ]
     },
     "execution_count": 5,
     "metadata": {},
     "output_type": "execute_result"
    }
   ],
   "source": [
    "rawData"
   ]
  },
  {
   "cell_type": "markdown",
   "id": "feff0c5b",
   "metadata": {},
   "source": [
    "### Normalizamos la info"
   ]
  },
  {
   "cell_type": "code",
   "execution_count": 6,
   "id": "38af63ad",
   "metadata": {},
   "outputs": [],
   "source": [
    "min_max_scaler = preprocessing.MinMaxScaler()"
   ]
  },
  {
   "cell_type": "code",
   "execution_count": 7,
   "id": "2126f2d8",
   "metadata": {},
   "outputs": [],
   "source": [
    "data_scaled = min_max_scaler.fit_transform(rawData.values)"
   ]
  },
  {
   "cell_type": "code",
   "execution_count": 8,
   "id": "423ac817",
   "metadata": {},
   "outputs": [
    {
     "data": {
      "text/plain": [
       "array([[1.        , 0.4516129 , 0.19411765, ..., 0.        , 1.        ,\n",
       "        0.        ],\n",
       "       [1.        , 0.48387097, 0.29411765, ..., 0.        , 1.        ,\n",
       "        0.07288017],\n",
       "       [1.        , 0.64516129, 0.62941176, ..., 1.        , 0.        ,\n",
       "        0.09950946],\n",
       "       ...,\n",
       "       [0.        , 0.16129032, 0.23529412, ..., 1.        , 0.        ,\n",
       "        0.82434011],\n",
       "       [0.        , 0.32258065, 0.8       , ..., 0.        , 0.        ,\n",
       "        0.90726466],\n",
       "       [0.        , 1.        , 0.25294118, ..., 0.        , 0.        ,\n",
       "        1.        ]])"
      ]
     },
     "execution_count": 8,
     "metadata": {},
     "output_type": "execute_result"
    }
   ],
   "source": [
    "data_scaled"
   ]
  },
  {
   "cell_type": "markdown",
   "id": "c74aa810",
   "metadata": {},
   "source": [
    "### Separamos Conjunto de Train y Test"
   ]
  },
  {
   "cell_type": "code",
   "execution_count": 9,
   "id": "7c560887",
   "metadata": {},
   "outputs": [],
   "source": [
    "train_vals, test_vals = train_test_split(data_scaled, test_size = 0.2, random_state = 0)"
   ]
  },
  {
   "cell_type": "code",
   "execution_count": 10,
   "id": "c9879cc9",
   "metadata": {},
   "outputs": [
    {
     "data": {
      "text/plain": [
       "(151, 9)"
      ]
     },
     "execution_count": 10,
     "metadata": {},
     "output_type": "execute_result"
    }
   ],
   "source": [
    "train_vals.shape"
   ]
  },
  {
   "cell_type": "code",
   "execution_count": 11,
   "id": "dd559652",
   "metadata": {},
   "outputs": [
    {
     "data": {
      "text/plain": [
       "(38, 9)"
      ]
     },
     "execution_count": 11,
     "metadata": {},
     "output_type": "execute_result"
    }
   ],
   "source": [
    "test_vals.shape"
   ]
  },
  {
   "cell_type": "code",
   "execution_count": 21,
   "id": "e73eadf6",
   "metadata": {},
   "outputs": [],
   "source": [
    "X_train = train_vals[:,1:9]\n",
    "y_train = train_vals[:,0]\n",
    "\n",
    "X_test = test_vals[:,1:9]\n",
    "y_test = test_vals[:,0]"
   ]
  },
  {
   "cell_type": "code",
   "execution_count": 13,
   "id": "5197914d",
   "metadata": {},
   "outputs": [
    {
     "data": {
      "text/plain": [
       "array([0., 1., 0., 0., 0., 0., 0., 0., 1., 1., 0., 0., 0., 0., 1., 0., 0.,\n",
       "       1., 0., 1., 1., 0., 0., 1., 0., 1., 0., 0., 0., 0., 0., 0., 1., 0.,\n",
       "       0., 1., 0., 0., 0., 1., 0., 0., 0., 1., 1., 0., 0., 0., 0., 0., 0.,\n",
       "       0., 0., 0., 1., 0., 0., 0., 0., 1., 0., 1., 1., 0., 1., 0., 1., 0.,\n",
       "       0., 1., 1., 0., 0., 1., 0., 0., 1., 0., 0., 1., 0., 0., 0., 0., 0.,\n",
       "       1., 0., 0., 1., 1., 0., 0., 1., 0., 0., 1., 1., 0., 1., 0., 0., 1.,\n",
       "       0., 0., 0., 1., 1., 0., 1., 0., 0., 1., 1., 0., 0., 1., 0., 0., 0.,\n",
       "       1., 0., 0., 0., 1., 0., 0., 0., 0., 0., 0., 0., 0., 1., 0., 0., 0.,\n",
       "       0., 1., 1., 0., 0., 0., 0., 1., 1., 1., 0., 0., 0., 1., 0.])"
      ]
     },
     "execution_count": 13,
     "metadata": {},
     "output_type": "execute_result"
    }
   ],
   "source": [
    "y_train"
   ]
  },
  {
   "cell_type": "code",
   "execution_count": 14,
   "id": "de226333",
   "metadata": {},
   "outputs": [
    {
     "data": {
      "text/plain": [
       "array([[0.25806452, 0.29411765, 0.        , ..., 0.        , 0.        ,\n",
       "        0.56598925],\n",
       "       [0.32258065, 0.30588235, 1.        , ..., 1.        , 0.        ,\n",
       "        0.23826209],\n",
       "       [0.16129032, 0.30588235, 1.        , ..., 0.        , 0.        ,\n",
       "        0.55617846],\n",
       "       ...,\n",
       "       [0.19354839, 0.13529412, 1.        , ..., 0.        , 0.        ,\n",
       "        0.58257416],\n",
       "       [0.09677419, 0.23529412, 0.        , ..., 0.        , 0.        ,\n",
       "        0.39827143],\n",
       "       [0.61290323, 0.21764706, 0.        , ..., 0.        , 1.        ,\n",
       "        0.74818968]])"
      ]
     },
     "execution_count": 14,
     "metadata": {},
     "output_type": "execute_result"
    }
   ],
   "source": [
    "X_train"
   ]
  },
  {
   "cell_type": "markdown",
   "id": "3cf805c6",
   "metadata": {},
   "source": [
    "### Capas"
   ]
  },
  {
   "cell_type": "code",
   "execution_count": 15,
   "id": "68a14364",
   "metadata": {},
   "outputs": [],
   "source": [
    "input_layer = layers.Input(shape=(X_train.shape[1],))\n",
    "dense_layer_1 = layers.Dense(64, activation='relu')(input_layer)\n",
    "dense_layer_2 = layers.Dense(32, activation='relu')(dense_layer_1)\n",
    "output = layers.Dense(1, activation='sigmoid')(dense_layer_2)"
   ]
  },
  {
   "cell_type": "code",
   "execution_count": 16,
   "id": "5579639a",
   "metadata": {},
   "outputs": [],
   "source": [
    "model = Model(inputs=input_layer, outputs=output)\n",
    "model.compile(loss='binary_crossentropy', optimizer='adam', metrics=['acc'])"
   ]
  },
  {
   "cell_type": "code",
   "execution_count": 17,
   "id": "9886f72d",
   "metadata": {},
   "outputs": [
    {
     "name": "stdout",
     "output_type": "stream",
     "text": [
      "Model: \"functional_1\"\n",
      "_________________________________________________________________\n",
      "Layer (type)                 Output Shape              Param #   \n",
      "=================================================================\n",
      "input_1 (InputLayer)         [(None, 8)]               0         \n",
      "_________________________________________________________________\n",
      "dense (Dense)                (None, 64)                576       \n",
      "_________________________________________________________________\n",
      "dense_1 (Dense)              (None, 32)                2080      \n",
      "_________________________________________________________________\n",
      "dense_2 (Dense)              (None, 1)                 33        \n",
      "=================================================================\n",
      "Total params: 2,689\n",
      "Trainable params: 2,689\n",
      "Non-trainable params: 0\n",
      "_________________________________________________________________\n",
      "None\n"
     ]
    }
   ],
   "source": [
    "print(model.summary())"
   ]
  },
  {
   "cell_type": "code",
   "execution_count": 18,
   "id": "350a23b6",
   "metadata": {},
   "outputs": [
    {
     "name": "stdout",
     "output_type": "stream",
     "text": [
      "Epoch 1/100\n",
      "5/5 [==============================] - 0s 32ms/step - loss: 0.7532 - acc: 0.3333 - val_loss: 0.7670 - val_acc: 0.2581\n",
      "Epoch 2/100\n",
      "5/5 [==============================] - 0s 5ms/step - loss: 0.7248 - acc: 0.3333 - val_loss: 0.7271 - val_acc: 0.1935\n",
      "Epoch 3/100\n",
      "5/5 [==============================] - 0s 5ms/step - loss: 0.6978 - acc: 0.3917 - val_loss: 0.6968 - val_acc: 0.5484\n",
      "Epoch 4/100\n",
      "5/5 [==============================] - 0s 4ms/step - loss: 0.6785 - acc: 0.6667 - val_loss: 0.6716 - val_acc: 0.6774\n",
      "Epoch 5/100\n",
      "5/5 [==============================] - 0s 4ms/step - loss: 0.6623 - acc: 0.7417 - val_loss: 0.6515 - val_acc: 0.8065\n",
      "Epoch 6/100\n",
      "5/5 [==============================] - 0s 4ms/step - loss: 0.6489 - acc: 0.7750 - val_loss: 0.6332 - val_acc: 0.8065\n",
      "Epoch 7/100\n",
      "5/5 [==============================] - 0s 4ms/step - loss: 0.6353 - acc: 0.7333 - val_loss: 0.6174 - val_acc: 0.8065\n",
      "Epoch 8/100\n",
      "5/5 [==============================] - 0s 4ms/step - loss: 0.6227 - acc: 0.7250 - val_loss: 0.6025 - val_acc: 0.7742\n",
      "Epoch 9/100\n",
      "5/5 [==============================] - 0s 4ms/step - loss: 0.6101 - acc: 0.7167 - val_loss: 0.5876 - val_acc: 0.7742\n",
      "Epoch 10/100\n",
      "5/5 [==============================] - ETA: 0s - loss: 0.6157 - acc: 0.680 - 0s 5ms/step - loss: 0.5964 - acc: 0.7250 - val_loss: 0.5736 - val_acc: 0.7742\n",
      "Epoch 11/100\n",
      "5/5 [==============================] - 0s 4ms/step - loss: 0.5813 - acc: 0.7333 - val_loss: 0.5605 - val_acc: 0.8065\n",
      "Epoch 12/100\n",
      "5/5 [==============================] - 0s 4ms/step - loss: 0.5655 - acc: 0.7417 - val_loss: 0.5475 - val_acc: 0.8065\n",
      "Epoch 13/100\n",
      "5/5 [==============================] - 0s 4ms/step - loss: 0.5477 - acc: 0.7500 - val_loss: 0.5364 - val_acc: 0.7742\n",
      "Epoch 14/100\n",
      "5/5 [==============================] - 0s 4ms/step - loss: 0.5291 - acc: 0.7750 - val_loss: 0.5269 - val_acc: 0.8065\n",
      "Epoch 15/100\n",
      "5/5 [==============================] - 0s 4ms/step - loss: 0.5105 - acc: 0.7917 - val_loss: 0.5149 - val_acc: 0.7742\n",
      "Epoch 16/100\n",
      "5/5 [==============================] - 0s 5ms/step - loss: 0.4906 - acc: 0.8000 - val_loss: 0.5060 - val_acc: 0.7742\n",
      "Epoch 17/100\n",
      "5/5 [==============================] - 0s 4ms/step - loss: 0.4731 - acc: 0.8417 - val_loss: 0.5030 - val_acc: 0.7742\n",
      "Epoch 18/100\n",
      "5/5 [==============================] - 0s 4ms/step - loss: 0.4546 - acc: 0.8583 - val_loss: 0.4910 - val_acc: 0.7742\n",
      "Epoch 19/100\n",
      "5/5 [==============================] - 0s 4ms/step - loss: 0.4342 - acc: 0.8750 - val_loss: 0.4841 - val_acc: 0.7742\n",
      "Epoch 20/100\n",
      "5/5 [==============================] - 0s 4ms/step - loss: 0.4169 - acc: 0.8833 - val_loss: 0.4829 - val_acc: 0.7742\n",
      "Epoch 21/100\n",
      "5/5 [==============================] - 0s 4ms/step - loss: 0.4027 - acc: 0.8833 - val_loss: 0.4769 - val_acc: 0.7742\n",
      "Epoch 22/100\n",
      "5/5 [==============================] - 0s 4ms/step - loss: 0.3873 - acc: 0.8833 - val_loss: 0.4799 - val_acc: 0.7742\n",
      "Epoch 23/100\n",
      "5/5 [==============================] - 0s 4ms/step - loss: 0.3779 - acc: 0.8583 - val_loss: 0.4898 - val_acc: 0.7419\n",
      "Epoch 24/100\n",
      "5/5 [==============================] - 0s 4ms/step - loss: 0.3649 - acc: 0.8500 - val_loss: 0.4889 - val_acc: 0.7419\n",
      "Epoch 25/100\n",
      "5/5 [==============================] - 0s 4ms/step - loss: 0.3558 - acc: 0.8667 - val_loss: 0.4808 - val_acc: 0.7419\n",
      "Epoch 26/100\n",
      "5/5 [==============================] - 0s 4ms/step - loss: 0.3458 - acc: 0.8750 - val_loss: 0.4835 - val_acc: 0.7419\n",
      "Epoch 27/100\n",
      "5/5 [==============================] - 0s 5ms/step - loss: 0.3365 - acc: 0.8667 - val_loss: 0.4873 - val_acc: 0.7419\n",
      "Epoch 28/100\n",
      "5/5 [==============================] - 0s 4ms/step - loss: 0.3287 - acc: 0.8667 - val_loss: 0.4936 - val_acc: 0.7419\n",
      "Epoch 29/100\n",
      "5/5 [==============================] - 0s 4ms/step - loss: 0.3209 - acc: 0.8667 - val_loss: 0.5001 - val_acc: 0.7742\n",
      "Epoch 30/100\n",
      "5/5 [==============================] - 0s 4ms/step - loss: 0.3147 - acc: 0.8667 - val_loss: 0.5008 - val_acc: 0.7742\n",
      "Epoch 31/100\n",
      "5/5 [==============================] - 0s 4ms/step - loss: 0.3073 - acc: 0.8667 - val_loss: 0.5046 - val_acc: 0.7419\n",
      "Epoch 32/100\n",
      "5/5 [==============================] - 0s 4ms/step - loss: 0.3012 - acc: 0.8667 - val_loss: 0.5038 - val_acc: 0.7419\n",
      "Epoch 33/100\n",
      "5/5 [==============================] - 0s 4ms/step - loss: 0.2957 - acc: 0.8667 - val_loss: 0.4957 - val_acc: 0.7419\n",
      "Epoch 34/100\n",
      "5/5 [==============================] - 0s 4ms/step - loss: 0.2900 - acc: 0.8667 - val_loss: 0.4941 - val_acc: 0.7419\n",
      "Epoch 35/100\n",
      "5/5 [==============================] - 0s 4ms/step - loss: 0.2842 - acc: 0.8750 - val_loss: 0.4922 - val_acc: 0.7742\n",
      "Epoch 36/100\n",
      "5/5 [==============================] - 0s 6ms/step - loss: 0.2795 - acc: 0.8833 - val_loss: 0.4959 - val_acc: 0.7419\n",
      "Epoch 37/100\n",
      "5/5 [==============================] - 0s 4ms/step - loss: 0.2733 - acc: 0.8917 - val_loss: 0.5000 - val_acc: 0.7419\n",
      "Epoch 38/100\n",
      "5/5 [==============================] - 0s 4ms/step - loss: 0.2677 - acc: 0.8917 - val_loss: 0.5041 - val_acc: 0.7419\n",
      "Epoch 39/100\n",
      "5/5 [==============================] - 0s 4ms/step - loss: 0.2650 - acc: 0.9000 - val_loss: 0.5029 - val_acc: 0.7419\n",
      "Epoch 40/100\n",
      "5/5 [==============================] - 0s 4ms/step - loss: 0.2599 - acc: 0.9000 - val_loss: 0.4947 - val_acc: 0.7419\n",
      "Epoch 41/100\n",
      "5/5 [==============================] - 0s 4ms/step - loss: 0.2545 - acc: 0.9083 - val_loss: 0.5016 - val_acc: 0.7419\n",
      "Epoch 42/100\n",
      "5/5 [==============================] - 0s 4ms/step - loss: 0.2506 - acc: 0.9083 - val_loss: 0.4921 - val_acc: 0.7419\n",
      "Epoch 43/100\n",
      "5/5 [==============================] - 0s 4ms/step - loss: 0.2476 - acc: 0.9083 - val_loss: 0.5021 - val_acc: 0.7419\n",
      "Epoch 44/100\n",
      "5/5 [==============================] - 0s 4ms/step - loss: 0.2423 - acc: 0.9083 - val_loss: 0.4857 - val_acc: 0.7742\n",
      "Epoch 45/100\n",
      "5/5 [==============================] - 0s 4ms/step - loss: 0.2369 - acc: 0.9167 - val_loss: 0.4850 - val_acc: 0.7742\n",
      "Epoch 46/100\n",
      "5/5 [==============================] - 0s 4ms/step - loss: 0.2324 - acc: 0.9167 - val_loss: 0.4903 - val_acc: 0.7419\n",
      "Epoch 47/100\n",
      "5/5 [==============================] - 0s 4ms/step - loss: 0.2282 - acc: 0.9167 - val_loss: 0.4900 - val_acc: 0.7419\n",
      "Epoch 48/100\n",
      "5/5 [==============================] - 0s 4ms/step - loss: 0.2242 - acc: 0.9167 - val_loss: 0.4870 - val_acc: 0.7742\n",
      "Epoch 49/100\n",
      "5/5 [==============================] - 0s 4ms/step - loss: 0.2195 - acc: 0.9167 - val_loss: 0.4768 - val_acc: 0.8065\n",
      "Epoch 50/100\n",
      "5/5 [==============================] - 0s 4ms/step - loss: 0.2164 - acc: 0.9167 - val_loss: 0.4713 - val_acc: 0.8065\n",
      "Epoch 51/100\n",
      "5/5 [==============================] - 0s 4ms/step - loss: 0.2119 - acc: 0.9167 - val_loss: 0.4785 - val_acc: 0.8065\n",
      "Epoch 52/100\n",
      "5/5 [==============================] - 0s 4ms/step - loss: 0.2077 - acc: 0.9333 - val_loss: 0.4855 - val_acc: 0.7742\n",
      "Epoch 53/100\n",
      "5/5 [==============================] - 0s 4ms/step - loss: 0.2046 - acc: 0.9333 - val_loss: 0.4860 - val_acc: 0.7742\n",
      "Epoch 54/100\n",
      "5/5 [==============================] - 0s 4ms/step - loss: 0.2009 - acc: 0.9333 - val_loss: 0.4690 - val_acc: 0.8065\n",
      "Epoch 55/100\n",
      "5/5 [==============================] - 0s 5ms/step - loss: 0.1954 - acc: 0.9333 - val_loss: 0.4654 - val_acc: 0.8065\n",
      "Epoch 56/100\n",
      "5/5 [==============================] - 0s 4ms/step - loss: 0.1924 - acc: 0.9333 - val_loss: 0.4690 - val_acc: 0.8065\n",
      "Epoch 57/100\n",
      "5/5 [==============================] - 0s 4ms/step - loss: 0.1902 - acc: 0.9333 - val_loss: 0.4720 - val_acc: 0.7742\n",
      "Epoch 58/100\n",
      "5/5 [==============================] - 0s 4ms/step - loss: 0.1852 - acc: 0.9333 - val_loss: 0.4561 - val_acc: 0.8065\n",
      "Epoch 59/100\n",
      "5/5 [==============================] - 0s 5ms/step - loss: 0.1810 - acc: 0.9333 - val_loss: 0.4540 - val_acc: 0.8065\n",
      "Epoch 60/100\n",
      "5/5 [==============================] - 0s 4ms/step - loss: 0.1777 - acc: 0.9333 - val_loss: 0.4529 - val_acc: 0.8065\n",
      "Epoch 61/100\n",
      "5/5 [==============================] - 0s 4ms/step - loss: 0.1741 - acc: 0.9333 - val_loss: 0.4536 - val_acc: 0.8065\n",
      "Epoch 62/100\n",
      "5/5 [==============================] - 0s 4ms/step - loss: 0.1708 - acc: 0.9333 - val_loss: 0.4495 - val_acc: 0.8065\n",
      "Epoch 63/100\n",
      "5/5 [==============================] - 0s 4ms/step - loss: 0.1681 - acc: 0.9333 - val_loss: 0.4481 - val_acc: 0.8065\n"
     ]
    },
    {
     "name": "stdout",
     "output_type": "stream",
     "text": [
      "Epoch 64/100\n",
      "5/5 [==============================] - 0s 5ms/step - loss: 0.1650 - acc: 0.9333 - val_loss: 0.4444 - val_acc: 0.8065\n",
      "Epoch 65/100\n",
      "5/5 [==============================] - 0s 4ms/step - loss: 0.1619 - acc: 0.9333 - val_loss: 0.4429 - val_acc: 0.8065\n",
      "Epoch 66/100\n",
      "5/5 [==============================] - 0s 4ms/step - loss: 0.1585 - acc: 0.9417 - val_loss: 0.4503 - val_acc: 0.8387\n",
      "Epoch 67/100\n",
      "5/5 [==============================] - 0s 4ms/step - loss: 0.1566 - acc: 0.9417 - val_loss: 0.4414 - val_acc: 0.8065\n",
      "Epoch 68/100\n",
      "5/5 [==============================] - 0s 4ms/step - loss: 0.1542 - acc: 0.9417 - val_loss: 0.4378 - val_acc: 0.8387\n",
      "Epoch 69/100\n",
      "5/5 [==============================] - 0s 4ms/step - loss: 0.1503 - acc: 0.9500 - val_loss: 0.4380 - val_acc: 0.8387\n",
      "Epoch 70/100\n",
      "5/5 [==============================] - 0s 4ms/step - loss: 0.1475 - acc: 0.9500 - val_loss: 0.4382 - val_acc: 0.8387\n",
      "Epoch 71/100\n",
      "5/5 [==============================] - 0s 4ms/step - loss: 0.1452 - acc: 0.9583 - val_loss: 0.4319 - val_acc: 0.8710\n",
      "Epoch 72/100\n",
      "5/5 [==============================] - 0s 4ms/step - loss: 0.1432 - acc: 0.9500 - val_loss: 0.4256 - val_acc: 0.8387\n",
      "Epoch 73/100\n",
      "5/5 [==============================] - 0s 4ms/step - loss: 0.1407 - acc: 0.9583 - val_loss: 0.4242 - val_acc: 0.8710\n",
      "Epoch 74/100\n",
      "5/5 [==============================] - 0s 4ms/step - loss: 0.1393 - acc: 0.9500 - val_loss: 0.4406 - val_acc: 0.8710\n",
      "Epoch 75/100\n",
      "5/5 [==============================] - 0s 4ms/step - loss: 0.1364 - acc: 0.9833 - val_loss: 0.4259 - val_acc: 0.8710\n",
      "Epoch 76/100\n",
      "5/5 [==============================] - 0s 4ms/step - loss: 0.1328 - acc: 0.9750 - val_loss: 0.4201 - val_acc: 0.8710\n",
      "Epoch 77/100\n",
      "5/5 [==============================] - 0s 4ms/step - loss: 0.1305 - acc: 0.9833 - val_loss: 0.4138 - val_acc: 0.8710\n",
      "Epoch 78/100\n",
      "5/5 [==============================] - 0s 4ms/step - loss: 0.1285 - acc: 0.9667 - val_loss: 0.4154 - val_acc: 0.8710\n",
      "Epoch 79/100\n",
      "5/5 [==============================] - 0s 4ms/step - loss: 0.1265 - acc: 0.9750 - val_loss: 0.4191 - val_acc: 0.8710\n",
      "Epoch 80/100\n",
      "5/5 [==============================] - 0s 4ms/step - loss: 0.1246 - acc: 0.9833 - val_loss: 0.4227 - val_acc: 0.8710\n",
      "Epoch 81/100\n",
      "5/5 [==============================] - 0s 4ms/step - loss: 0.1223 - acc: 0.9833 - val_loss: 0.4119 - val_acc: 0.8710\n",
      "Epoch 82/100\n",
      "5/5 [==============================] - 0s 4ms/step - loss: 0.1198 - acc: 0.9833 - val_loss: 0.4055 - val_acc: 0.8710\n",
      "Epoch 83/100\n",
      "5/5 [==============================] - 0s 4ms/step - loss: 0.1183 - acc: 0.9833 - val_loss: 0.4006 - val_acc: 0.8710\n",
      "Epoch 84/100\n",
      "5/5 [==============================] - 0s 4ms/step - loss: 0.1171 - acc: 0.9833 - val_loss: 0.4091 - val_acc: 0.8710\n",
      "Epoch 85/100\n",
      "5/5 [==============================] - 0s 4ms/step - loss: 0.1148 - acc: 0.9833 - val_loss: 0.4042 - val_acc: 0.8710\n",
      "Epoch 86/100\n",
      "5/5 [==============================] - 0s 4ms/step - loss: 0.1131 - acc: 0.9917 - val_loss: 0.4000 - val_acc: 0.8710\n",
      "Epoch 87/100\n",
      "5/5 [==============================] - 0s 4ms/step - loss: 0.1103 - acc: 0.9833 - val_loss: 0.3952 - val_acc: 0.8710\n",
      "Epoch 88/100\n",
      "5/5 [==============================] - 0s 4ms/step - loss: 0.1089 - acc: 0.9833 - val_loss: 0.3947 - val_acc: 0.8710\n",
      "Epoch 89/100\n",
      "5/5 [==============================] - ETA: 0s - loss: 0.2180 - acc: 0.960 - 0s 4ms/step - loss: 0.1074 - acc: 0.9917 - val_loss: 0.3934 - val_acc: 0.8710\n",
      "Epoch 90/100\n",
      "5/5 [==============================] - 0s 4ms/step - loss: 0.1048 - acc: 0.9917 - val_loss: 0.3958 - val_acc: 0.8710\n",
      "Epoch 91/100\n",
      "5/5 [==============================] - 0s 4ms/step - loss: 0.1041 - acc: 0.9917 - val_loss: 0.3921 - val_acc: 0.8710\n",
      "Epoch 92/100\n",
      "5/5 [==============================] - 0s 4ms/step - loss: 0.1019 - acc: 0.9917 - val_loss: 0.3914 - val_acc: 0.8710\n",
      "Epoch 93/100\n",
      "5/5 [==============================] - 0s 4ms/step - loss: 0.1013 - acc: 0.9917 - val_loss: 0.3819 - val_acc: 0.8710\n",
      "Epoch 94/100\n",
      "5/5 [==============================] - 0s 4ms/step - loss: 0.0987 - acc: 0.9917 - val_loss: 0.3849 - val_acc: 0.8710\n",
      "Epoch 95/100\n",
      "5/5 [==============================] - 0s 4ms/step - loss: 0.0968 - acc: 0.9917 - val_loss: 0.3819 - val_acc: 0.8710\n",
      "Epoch 96/100\n",
      "5/5 [==============================] - 0s 4ms/step - loss: 0.0962 - acc: 0.9917 - val_loss: 0.3775 - val_acc: 0.8710\n",
      "Epoch 97/100\n",
      "5/5 [==============================] - 0s 4ms/step - loss: 0.0935 - acc: 0.9917 - val_loss: 0.3786 - val_acc: 0.8710\n",
      "Epoch 98/100\n",
      "5/5 [==============================] - 0s 4ms/step - loss: 0.0932 - acc: 0.9917 - val_loss: 0.3689 - val_acc: 0.8710\n",
      "Epoch 99/100\n",
      "5/5 [==============================] - 0s 4ms/step - loss: 0.0912 - acc: 0.9917 - val_loss: 0.3726 - val_acc: 0.8710\n",
      "Epoch 100/100\n",
      "5/5 [==============================] - 0s 4ms/step - loss: 0.0893 - acc: 0.9917 - val_loss: 0.3696 - val_acc: 0.8710\n"
     ]
    }
   ],
   "source": [
    "history = model.fit(X_train, y_train, batch_size=25, epochs=100, verbose=1, validation_split=0.2)"
   ]
  },
  {
   "cell_type": "code",
   "execution_count": 19,
   "id": "843153ae",
   "metadata": {},
   "outputs": [
    {
     "data": {
      "image/png": "[encoded data removed]",
      "text/plain": [
       "<Figure size 432x288 with 1 Axes>"
      ]
     },
     "metadata": {
      "needs_background": "light"
     },
     "output_type": "display_data"
    }
   ],
   "source": [
    "def plot_loss(history):\n",
    "  plt.plot(history.history['loss'], label='loss')\n",
    "  plt.plot(history.history['val_loss'], label='val_loss')\n",
    "  plt.ylim([0, 1])\n",
    "  plt.xlabel('Epoch')\n",
    "  plt.ylabel('Error [BW]')\n",
    "  plt.legend()\n",
    "  plt.grid(True)\n",
    "\n",
    "plot_loss(history)"
   ]
  },
  {
   "cell_type": "code",
   "execution_count": 22,
   "id": "4c7701e1",
   "metadata": {},
   "outputs": [
    {
     "name": "stdout",
     "output_type": "stream",
     "text": [
      "2/2 [==============================] - 0s 999us/step - loss: 0.1586 - acc: 0.9474\n",
      "Test Score: 0.1585596203804016\n",
      "Test Accuracy: 0.9473684430122375\n"
     ]
    }
   ],
   "source": [
    "score = model.evaluate(X_test, y_test, verbose=1)\n",
    "\n",
    "print(\"Test Score:\", score[0])\n",
    "print(\"Test Accuracy:\", score[1])"
   ]
  },
  {
   "cell_type": "code",
   "execution_count": 23,
   "id": "d167f45b",
   "metadata": {},
   "outputs": [],
   "source": [
    "resy = model.predict(X_test)"
   ]
  },
  {
   "cell_type": "code",
   "execution_count": 34,
   "id": "7367e0c8",
   "metadata": {},
   "outputs": [
    {
     "data": {
      "text/plain": [
       "[<matplotlib.lines.Line2D at 0x1c10e7d51c8>]"
      ]
     },
     "execution_count": 34,
     "metadata": {},
     "output_type": "execute_result"
    },
    {
     "data": {
      "image/png": "[encoded data removed]",
      "text/plain": [
       "<Figure size 432x288 with 1 Axes>"
      ]
     },
     "metadata": {
      "needs_background": "light"
     },
     "output_type": "display_data"
    }
   ],
   "source": [
    "x = tf.linspace(0.0, 3, 38)\n",
    "plt.plot(x, y_test, color='k', label='Posta')\n",
    "plt.plot(x, resy, color='g', label='Posta')"
   ]
  },
  {
   "cell_type": "code",
   "execution_count": 28,
   "id": "4d6b1649",
   "metadata": {},
   "outputs": [
    {
     "data": {
      "text/plain": [
       "array([0., 0., 0., 0., 0., 0., 1., 0., 0., 1., 1., 0., 0., 0., 0., 0., 1.,\n",
       "       0., 0., 0., 1., 0., 0., 0., 0., 0., 0., 0., 0., 1., 1., 1., 0., 1.,\n",
       "       1., 1., 0., 0.])"
      ]
     },
     "execution_count": 28,
     "metadata": {},
     "output_type": "execute_result"
    }
   ],
   "source": [
    "y_test"
   ]
  },
  {
   "cell_type": "code",
   "execution_count": 32,
   "id": "73b9d9bd",
   "metadata": {},
   "outputs": [],
   "source": [
    "resy = np.round(resy,decimals=0)"
   ]
  },
  {
   "cell_type": "code",
   "execution_count": 33,
   "id": "37ebe18a",
   "metadata": {},
   "outputs": [
    {
     "data": {
      "text/plain": [
       "array([[0.],\n",
       "       [1.],\n",
       "       [0.],\n",
       "       [0.],\n",
       "       [0.],\n",
       "       [1.],\n",
       "       [1.],\n",
       "       [0.],\n",
       "       [0.],\n",
       "       [1.],\n",
       "       [1.],\n",
       "       [0.],\n",
       "       [0.],\n",
       "       [0.],\n",
       "       [0.],\n",
       "       [0.],\n",
       "       [1.],\n",
       "       [0.],\n",
       "       [0.],\n",
       "       [0.],\n",
       "       [1.],\n",
       "       [0.],\n",
       "       [0.],\n",
       "       [0.],\n",
       "       [0.],\n",
       "       [0.],\n",
       "       [0.],\n",
       "       [0.],\n",
       "       [0.],\n",
       "       [1.],\n",
       "       [1.],\n",
       "       [1.],\n",
       "       [0.],\n",
       "       [1.],\n",
       "       [1.],\n",
       "       [1.],\n",
       "       [0.],\n",
       "       [0.]], dtype=float32)"
      ]
     },
     "execution_count": 33,
     "metadata": {},
     "output_type": "execute_result"
    }
   ],
   "source": [
    "resy"
   ]
  },
  {
   "cell_type": "code",
   "execution_count": null,
   "id": "5f4ca2e3",
   "metadata": {},
   "outputs": [],
   "source": []
  }
 ],
 "metadata": {
  "kernelspec": {
   "display_name": "Python 3",
   "language": "python",
   "name": "python3"
  },
  "language_info": {
   "codemirror_mode": {
    "name": "ipython",
    "version": 3
   },
   "file_extension": ".py",
   "mimetype": "text/x-python",
   "name": "python",
   "nbconvert_exporter": "python",
   "pygments_lexer": "ipython3",
   "version": "3.7.10"
  }
 },
 "nbformat": 4,
 "nbformat_minor": 5
}
