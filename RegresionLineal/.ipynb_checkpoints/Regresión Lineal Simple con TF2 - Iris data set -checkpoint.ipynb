{
 "cells": [
  {
   "cell_type": "markdown",
   "metadata": {},
   "source": [
    "## Predicción de la longitud del sépalo en función de la anchura del pétalo - MAXI"
   ]
  },
  {
   "cell_type": "code",
   "execution_count": 1,
   "metadata": {},
   "outputs": [],
   "source": [
    "import matplotlib.pyplot as plt\n",
    "import numpy as np\n",
    "import pandas as pd\n",
    "import tensorflow as tf\n",
    "from sklearn import datasets\n",
    "from sklearn.model_selection import train_test_split"
   ]
  },
  {
   "cell_type": "code",
   "execution_count": 2,
   "metadata": {},
   "outputs": [],
   "source": [
    "from tensorflow import keras\n",
    "from tensorflow.keras import layers\n",
    "from tensorflow.keras.layers.experimental import preprocessing"
   ]
  },
  {
   "cell_type": "code",
   "execution_count": 3,
   "metadata": {},
   "outputs": [
    {
     "data": {
      "text/plain": [
       "'2.4.1'"
      ]
     },
     "execution_count": 3,
     "metadata": {},
     "output_type": "execute_result"
    }
   ],
   "source": [
    "tf.__version__"
   ]
  },
  {
   "cell_type": "code",
   "execution_count": 5,
   "metadata": {},
   "outputs": [],
   "source": [
    "iris = datasets.load_iris()\n",
    "x_vals = np.array([x[3] for x in iris.data])\n",
    "y_vals = np.array([x[0] for x in iris.data])"
   ]
  },
  {
   "cell_type": "markdown",
   "metadata": {},
   "source": [
    "#train_iris, test_iris = train_test_split(iris_data, test_size = 0.2, random_state = 0)\n",
    "#(X_train, y_train), (X_test, y_test) = iris_data"
   ]
  },
  {
   "cell_type": "code",
   "execution_count": 6,
   "metadata": {},
   "outputs": [
    {
     "data": {
      "text/plain": [
       "[<matplotlib.lines.Line2D at 0x21da6cb6488>]"
      ]
     },
     "execution_count": 6,
     "metadata": {},
     "output_type": "execute_result"
    },
    {
     "data": {
      "image/png": "[encoded data removed]",
      "text/plain": [
       "<Figure size 432x288 with 1 Axes>"
      ]
     },
     "metadata": {
      "needs_background": "light"
     },
     "output_type": "display_data"
    }
   ],
   "source": [
    "plt.plot(x_vals, y_vals, 'o', label = \"Datos\")"
   ]
  },
  {
   "cell_type": "code",
   "execution_count": 7,
   "metadata": {},
   "outputs": [],
   "source": [
    "iris_normalizer = preprocessing.Normalization(input_shape=[1,])\n",
    "iris_normalizer.adapt(x_vals)"
   ]
  },
  {
   "cell_type": "markdown",
   "metadata": {},
   "source": [
    "learning_rate = 0.05\n",
    "batch_size = 25"
   ]
  },
  {
   "cell_type": "markdown",
   "metadata": {},
   "source": [
    "A = tf.Variable(tf.random.normal(shape=[1,1]), name = \"A\", dtype=tf.float32)\n",
    "b = tf.Variable(tf.random.normal(shape=[1,1]), name = \"b\", dtype=tf.float32)"
   ]
  },
  {
   "cell_type": "markdown",
   "metadata": {},
   "source": [
    "$$y = Ax+b$$"
   ]
  },
  {
   "cell_type": "markdown",
   "metadata": {},
   "source": [
    "#@tf.function(input_signature=[tf.TensorSpec(shape=[None, 1], dtype=tf.float32),])\n",
    "@tf.function\n",
    "def regresion_lineal(x):\n",
    "  return (A * x) + b"
   ]
  },
  {
   "cell_type": "markdown",
   "metadata": {},
   "source": [
    "data_tf = tf.cast(tf.Variable(x_vals), tf.float32)\n",
    "data_tf.numpy"
   ]
  },
  {
   "cell_type": "markdown",
   "metadata": {},
   "source": [
    "y_predict = []\n",
    "for x in data_tf:\n",
    "    y_predict_res = regresion_lineal(x)\n",
    "    y_predict.append(y_predict_res)"
   ]
  },
  {
   "cell_type": "code",
   "execution_count": 8,
   "metadata": {},
   "outputs": [
    {
     "name": "stdout",
     "output_type": "stream",
     "text": [
      "Model: \"sequential\"\n",
      "_________________________________________________________________\n",
      "Layer (type)                 Output Shape              Param #   \n",
      "=================================================================\n",
      "normalization (Normalization (None, 1)                 3         \n",
      "_________________________________________________________________\n",
      "dense (Dense)                (None, 1)                 2         \n",
      "=================================================================\n",
      "Total params: 5\n",
      "Trainable params: 2\n",
      "Non-trainable params: 3\n",
      "_________________________________________________________________\n"
     ]
    }
   ],
   "source": [
    "iris_model = tf.keras.Sequential([\n",
    "    iris_normalizer,\n",
    "    layers.Dense(units=1)\n",
    "])\n",
    "iris_model.summary()"
   ]
  },
  {
   "cell_type": "code",
   "execution_count": 10,
   "metadata": {},
   "outputs": [
    {
     "data": {
      "text/plain": [
       "array([[2.145224 ],\n",
       "       [2.145224 ],\n",
       "       [2.145224 ],\n",
       "       [2.145224 ],\n",
       "       [2.145224 ],\n",
       "       [1.7158929],\n",
       "       [1.9305584],\n",
       "       [2.145224 ],\n",
       "       [2.145224 ],\n",
       "       [2.3598893]], dtype=float32)"
      ]
     },
     "execution_count": 10,
     "metadata": {},
     "output_type": "execute_result"
    }
   ],
   "source": [
    "iris_model.predict(x_vals[:10])"
   ]
  },
  {
   "cell_type": "code",
   "execution_count": 11,
   "metadata": {},
   "outputs": [],
   "source": [
    "iris_model.compile(\n",
    "    optimizer=tf.optimizers.Adam(learning_rate=0.1),\n",
    "    loss='mean_absolute_error')"
   ]
  },
  {
   "cell_type": "code",
   "execution_count": 12,
   "metadata": {},
   "outputs": [
    {
     "name": "stdout",
     "output_type": "stream",
     "text": [
      "Epoch 1/100\n",
      "WARNING:tensorflow:AutoGraph could not transform <function Model.make_train_function.<locals>.train_function at 0x0000021DAEAA8558> and will run it as-is.\n",
      "Please report this to the TensorFlow team. When filing the bug, set the verbosity to 10 (on Linux, `export AUTOGRAPH_VERBOSITY=10`) and attach the full output.\n",
      "Cause: 'arguments' object has no attribute 'posonlyargs'\n",
      "To silence this warning, decorate the function with @tf.autograph.experimental.do_not_convert\n",
      "WARNING: AutoGraph could not transform <function Model.make_train_function.<locals>.train_function at 0x0000021DAEAA8558> and will run it as-is.\n",
      "Please report this to the TensorFlow team. When filing the bug, set the verbosity to 10 (on Linux, `export AUTOGRAPH_VERBOSITY=10`) and attach the full output.\n",
      "Cause: 'arguments' object has no attribute 'posonlyargs'\n",
      "To silence this warning, decorate the function with @tf.autograph.experimental.do_not_convert\n",
      "1/4 [======>.......................] - ETA: 0s - loss: 5.4637WARNING:tensorflow:AutoGraph could not transform <function Model.make_test_function.<locals>.test_function at 0x0000021DB0088288> and will run it as-is.\n",
      "Please report this to the TensorFlow team. When filing the bug, set the verbosity to 10 (on Linux, `export AUTOGRAPH_VERBOSITY=10`) and attach the full output.\n",
      "Cause: 'arguments' object has no attribute 'posonlyargs'\n",
      "To silence this warning, decorate the function with @tf.autograph.experimental.do_not_convert\n",
      "WARNING: AutoGraph could not transform <function Model.make_test_function.<locals>.test_function at 0x0000021DB0088288> and will run it as-is.\n",
      "Please report this to the TensorFlow team. When filing the bug, set the verbosity to 10 (on Linux, `export AUTOGRAPH_VERBOSITY=10`) and attach the full output.\n",
      "Cause: 'arguments' object has no attribute 'posonlyargs'\n",
      "To silence this warning, decorate the function with @tf.autograph.experimental.do_not_convert\n",
      "4/4 [==============================] - 1s 197ms/step - loss: 5.1896 - val_loss: 8.3694\n",
      "Epoch 2/100\n",
      "4/4 [==============================] - 0s 24ms/step - loss: 4.5606 - val_loss: 8.3788\n",
      "Epoch 3/100\n",
      "4/4 [==============================] - 0s 23ms/step - loss: 4.1666 - val_loss: 8.3504\n",
      "Epoch 4/100\n",
      "4/4 [==============================] - 0s 49ms/step - loss: 3.7265 - val_loss: 8.1110\n",
      "Epoch 5/100\n",
      "4/4 [==============================] - 0s 22ms/step - loss: 3.2689 - val_loss: 7.6300\n",
      "Epoch 6/100\n",
      "4/4 [==============================] - 0s 21ms/step - loss: 3.4418 - val_loss: 7.0156\n",
      "Epoch 7/100\n",
      "4/4 [==============================] - 0s 23ms/step - loss: 3.0274 - val_loss: 6.3515\n",
      "Epoch 8/100\n",
      "4/4 [==============================] - 0s 24ms/step - loss: 2.7155 - val_loss: 5.6836\n",
      "Epoch 9/100\n",
      "4/4 [==============================] - 0s 22ms/step - loss: 2.4749 - val_loss: 5.0185\n",
      "Epoch 10/100\n",
      "4/4 [==============================] - 0s 21ms/step - loss: 2.3928 - val_loss: 4.3739\n",
      "Epoch 11/100\n",
      "4/4 [==============================] - 0s 22ms/step - loss: 1.9209 - val_loss: 3.7756\n",
      "Epoch 12/100\n",
      "4/4 [==============================] - 0s 20ms/step - loss: 1.6410 - val_loss: 3.1744\n",
      "Epoch 13/100\n",
      "4/4 [==============================] - 0s 20ms/step - loss: 1.4769 - val_loss: 2.5390\n",
      "Epoch 14/100\n",
      "4/4 [==============================] - 0s 21ms/step - loss: 1.1369 - val_loss: 1.8880\n",
      "Epoch 15/100\n",
      "4/4 [==============================] - 0s 26ms/step - loss: 0.8700 - val_loss: 1.2236\n",
      "Epoch 16/100\n",
      "4/4 [==============================] - 0s 26ms/step - loss: 0.5707 - val_loss: 0.6367\n",
      "Epoch 17/100\n",
      "4/4 [==============================] - 0s 22ms/step - loss: 0.4056 - val_loss: 0.4141\n",
      "Epoch 18/100\n",
      "4/4 [==============================] - 0s 22ms/step - loss: 0.3626 - val_loss: 0.5536\n",
      "Epoch 19/100\n",
      "4/4 [==============================] - 0s 23ms/step - loss: 0.3770 - val_loss: 0.6350\n",
      "Epoch 20/100\n",
      "4/4 [==============================] - 0s 23ms/step - loss: 0.3928 - val_loss: 0.6109\n",
      "Epoch 21/100\n",
      "4/4 [==============================] - 0s 22ms/step - loss: 0.3971 - val_loss: 0.5340\n",
      "Epoch 22/100\n",
      "4/4 [==============================] - 0s 51ms/step - loss: 0.3805 - val_loss: 0.4505\n",
      "Epoch 23/100\n",
      "4/4 [==============================] - 0s 24ms/step - loss: 0.3486 - val_loss: 0.4133\n",
      "Epoch 24/100\n",
      "4/4 [==============================] - 0s 22ms/step - loss: 0.3699 - val_loss: 0.4177\n",
      "Epoch 25/100\n",
      "4/4 [==============================] - 0s 23ms/step - loss: 0.3641 - val_loss: 0.4188\n",
      "Epoch 26/100\n",
      "4/4 [==============================] - 0s 20ms/step - loss: 0.3465 - val_loss: 0.4176\n",
      "Epoch 27/100\n",
      "4/4 [==============================] - 0s 21ms/step - loss: 0.3524 - val_loss: 0.4148\n",
      "Epoch 28/100\n",
      "4/4 [==============================] - 0s 21ms/step - loss: 0.3489 - val_loss: 0.4103\n",
      "Epoch 29/100\n",
      "4/4 [==============================] - 0s 19ms/step - loss: 0.3624 - val_loss: 0.4127\n",
      "Epoch 30/100\n",
      "4/4 [==============================] - 0s 22ms/step - loss: 0.3529 - val_loss: 0.4132\n",
      "Epoch 31/100\n",
      "4/4 [==============================] - 0s 25ms/step - loss: 0.3442 - val_loss: 0.4127\n",
      "Epoch 32/100\n",
      "4/4 [==============================] - 0s 23ms/step - loss: 0.3654 - val_loss: 0.4116\n",
      "Epoch 33/100\n",
      "4/4 [==============================] - 0s 21ms/step - loss: 0.3627 - val_loss: 0.4137\n",
      "Epoch 34/100\n",
      "4/4 [==============================] - 0s 22ms/step - loss: 0.3538 - val_loss: 0.4126\n",
      "Epoch 35/100\n",
      "4/4 [==============================] - 0s 24ms/step - loss: 0.3694 - val_loss: 0.4117\n",
      "Epoch 36/100\n",
      "4/4 [==============================] - 0s 22ms/step - loss: 0.3506 - val_loss: 0.4119\n",
      "Epoch 37/100\n",
      "4/4 [==============================] - 0s 20ms/step - loss: 0.3306 - val_loss: 0.4151\n",
      "Epoch 38/100\n",
      "4/4 [==============================] - 0s 21ms/step - loss: 0.3390 - val_loss: 0.4128\n",
      "Epoch 39/100\n",
      "4/4 [==============================] - 0s 23ms/step - loss: 0.3570 - val_loss: 0.4113\n",
      "Epoch 40/100\n",
      "4/4 [==============================] - 0s 20ms/step - loss: 0.3637 - val_loss: 0.4117\n",
      "Epoch 41/100\n",
      "4/4 [==============================] - 0s 20ms/step - loss: 0.3599 - val_loss: 0.4117\n",
      "Epoch 42/100\n",
      "4/4 [==============================] - 0s 22ms/step - loss: 0.3532 - val_loss: 0.4131\n",
      "Epoch 43/100\n",
      "4/4 [==============================] - 0s 20ms/step - loss: 0.3295 - val_loss: 0.4113\n",
      "Epoch 44/100\n",
      "4/4 [==============================] - 0s 47ms/step - loss: 0.3367 - val_loss: 0.4130\n",
      "Epoch 45/100\n",
      "4/4 [==============================] - 0s 21ms/step - loss: 0.3239 - val_loss: 0.4126\n",
      "Epoch 46/100\n",
      "4/4 [==============================] - 0s 20ms/step - loss: 0.3477 - val_loss: 0.4116\n",
      "Epoch 47/100\n",
      "4/4 [==============================] - 0s 20ms/step - loss: 0.3322 - val_loss: 0.4096\n",
      "Epoch 48/100\n",
      "4/4 [==============================] - 0s 21ms/step - loss: 0.3669 - val_loss: 0.4143\n",
      "Epoch 49/100\n",
      "4/4 [==============================] - 0s 20ms/step - loss: 0.3540 - val_loss: 0.4157\n",
      "Epoch 50/100\n",
      "4/4 [==============================] - 0s 20ms/step - loss: 0.3564 - val_loss: 0.4137\n",
      "Epoch 51/100\n",
      "4/4 [==============================] - 0s 23ms/step - loss: 0.3453 - val_loss: 0.4131\n",
      "Epoch 52/100\n",
      "4/4 [==============================] - 0s 23ms/step - loss: 0.3463 - val_loss: 0.4105\n",
      "Epoch 53/100\n",
      "4/4 [==============================] - 0s 26ms/step - loss: 0.3675 - val_loss: 0.4122\n",
      "Epoch 54/100\n",
      "4/4 [==============================] - 0s 24ms/step - loss: 0.3774 - val_loss: 0.4158\n",
      "Epoch 55/100\n",
      "4/4 [==============================] - 0s 22ms/step - loss: 0.3539 - val_loss: 0.4120\n",
      "Epoch 56/100\n",
      "4/4 [==============================] - 0s 22ms/step - loss: 0.3613 - val_loss: 0.4119\n",
      "Epoch 57/100\n",
      "4/4 [==============================] - 0s 19ms/step - loss: 0.3670 - val_loss: 0.4123\n",
      "Epoch 58/100\n",
      "4/4 [==============================] - 0s 20ms/step - loss: 0.3339 - val_loss: 0.4129\n",
      "Epoch 59/100\n",
      "4/4 [==============================] - 0s 20ms/step - loss: 0.3563 - val_loss: 0.4117\n",
      "Epoch 60/100\n",
      "4/4 [==============================] - 0s 21ms/step - loss: 0.3591 - val_loss: 0.4122\n",
      "Epoch 61/100\n",
      "4/4 [==============================] - 0s 23ms/step - loss: 0.3535 - val_loss: 0.4131\n",
      "Epoch 62/100\n",
      "4/4 [==============================] - 0s 51ms/step - loss: 0.3619 - val_loss: 0.4115\n",
      "Epoch 63/100\n",
      "4/4 [==============================] - 0s 21ms/step - loss: 0.3585 - val_loss: 0.4140\n",
      "Epoch 64/100\n",
      "4/4 [==============================] - 0s 21ms/step - loss: 0.3589 - val_loss: 0.4158\n",
      "Epoch 65/100\n",
      "4/4 [==============================] - 0s 24ms/step - loss: 0.3708 - val_loss: 0.4131\n",
      "Epoch 66/100\n",
      "4/4 [==============================] - 0s 22ms/step - loss: 0.3577 - val_loss: 0.4115\n",
      "Epoch 67/100\n",
      "4/4 [==============================] - 0s 21ms/step - loss: 0.3650 - val_loss: 0.4105\n",
      "Epoch 68/100\n",
      "4/4 [==============================] - 0s 20ms/step - loss: 0.3570 - val_loss: 0.4133\n",
      "Epoch 69/100\n",
      "4/4 [==============================] - 0s 20ms/step - loss: 0.3397 - val_loss: 0.4126\n",
      "Epoch 70/100\n",
      "4/4 [==============================] - 0s 21ms/step - loss: 0.3608 - val_loss: 0.4114\n",
      "Epoch 71/100\n",
      "4/4 [==============================] - 0s 22ms/step - loss: 0.3653 - val_loss: 0.4112\n",
      "Epoch 72/100\n",
      "4/4 [==============================] - 0s 23ms/step - loss: 0.3300 - val_loss: 0.4131\n",
      "Epoch 73/100\n",
      "4/4 [==============================] - 0s 22ms/step - loss: 0.3611 - val_loss: 0.4121\n",
      "Epoch 74/100\n",
      "4/4 [==============================] - ETA: 0s - loss: 0.321 - 0s 21ms/step - loss: 0.3406 - val_loss: 0.4128\n",
      "Epoch 75/100\n",
      "4/4 [==============================] - 0s 20ms/step - loss: 0.3491 - val_loss: 0.4133\n",
      "Epoch 76/100\n",
      "4/4 [==============================] - 0s 19ms/step - loss: 0.3501 - val_loss: 0.4149\n",
      "Epoch 77/100\n",
      "4/4 [==============================] - 0s 19ms/step - loss: 0.3522 - val_loss: 0.4108\n",
      "Epoch 78/100\n",
      "4/4 [==============================] - ETA: 0s - loss: 0.421 - 0s 21ms/step - loss: 0.3650 - val_loss: 0.4112\n",
      "Epoch 79/100\n",
      "4/4 [==============================] - 0s 20ms/step - loss: 0.3645 - val_loss: 0.4105\n",
      "Epoch 80/100\n",
      "4/4 [==============================] - 0s 22ms/step - loss: 0.3339 - val_loss: 0.4101\n",
      "Epoch 81/100\n",
      "4/4 [==============================] - 0s 22ms/step - loss: 0.3503 - val_loss: 0.4154\n",
      "Epoch 82/100\n",
      "4/4 [==============================] - 0s 21ms/step - loss: 0.3528 - val_loss: 0.4130\n",
      "Epoch 83/100\n",
      "4/4 [==============================] - 0s 22ms/step - loss: 0.3564 - val_loss: 0.4107\n",
      "Epoch 84/100\n",
      "4/4 [==============================] - 0s 23ms/step - loss: 0.3620 - val_loss: 0.4104\n",
      "Epoch 85/100\n",
      "4/4 [==============================] - 0s 46ms/step - loss: 0.3494 - val_loss: 0.4115\n",
      "Epoch 86/100\n",
      "4/4 [==============================] - 0s 20ms/step - loss: 0.3377 - val_loss: 0.4126\n",
      "Epoch 87/100\n",
      "4/4 [==============================] - 0s 21ms/step - loss: 0.3474 - val_loss: 0.4113\n",
      "Epoch 88/100\n",
      "4/4 [==============================] - 0s 21ms/step - loss: 0.3558 - val_loss: 0.4120\n",
      "Epoch 89/100\n",
      "4/4 [==============================] - 0s 20ms/step - loss: 0.3579 - val_loss: 0.4116\n",
      "Epoch 90/100\n",
      "4/4 [==============================] - 0s 20ms/step - loss: 0.3470 - val_loss: 0.4129\n",
      "Epoch 91/100\n",
      "4/4 [==============================] - 0s 22ms/step - loss: 0.3749 - val_loss: 0.4145\n",
      "Epoch 92/100\n",
      "4/4 [==============================] - 0s 21ms/step - loss: 0.3600 - val_loss: 0.4123\n",
      "Epoch 93/100\n",
      "4/4 [==============================] - 0s 21ms/step - loss: 0.3635 - val_loss: 0.4122\n",
      "Epoch 94/100\n",
      "4/4 [==============================] - 0s 20ms/step - loss: 0.3642 - val_loss: 0.4118\n",
      "Epoch 95/100\n",
      "4/4 [==============================] - 0s 21ms/step - loss: 0.3574 - val_loss: 0.4153\n",
      "Epoch 96/100\n",
      "4/4 [==============================] - 0s 21ms/step - loss: 0.3428 - val_loss: 0.4126\n",
      "Epoch 97/100\n",
      "4/4 [==============================] - 0s 22ms/step - loss: 0.3499 - val_loss: 0.4098\n",
      "Epoch 98/100\n",
      "4/4 [==============================] - 0s 25ms/step - loss: 0.3741 - val_loss: 0.4130\n",
      "Epoch 99/100\n",
      "4/4 [==============================] - 0s 26ms/step - loss: 0.3413 - val_loss: 0.4140\n",
      "Epoch 100/100\n",
      "4/4 [==============================] - 0s 24ms/step - loss: 0.3321 - val_loss: 0.4131\n",
      "Wall time: 8.12 s\n"
     ]
    }
   ],
   "source": [
    "%%time\n",
    "history = iris_model.fit(\n",
    "    x_vals, y_vals,\n",
    "    epochs=100,\n",
    "    # suppress logging\n",
    "    verbose=0,\n",
    "    # Calculate validation results on 20% of the training data\n",
    "    validation_split = 0.2)"
   ]
  },
  {
   "cell_type": "code",
   "execution_count": 24,
   "metadata": {},
   "outputs": [
    {
     "ename": "AttributeError",
     "evalue": "'History' object has no attribute 'value'",
     "output_type": "error",
     "traceback": [
      "\u001b[1;31m---------------------------------------------------------------------------\u001b[0m",
      "\u001b[1;31mAttributeError\u001b[0m                            Traceback (most recent call last)",
      "\u001b[1;32m<ipython-input-24-b4a2654fb0a9>\u001b[0m in \u001b[0;36m<module>\u001b[1;34m\u001b[0m\n\u001b[0;32m      3\u001b[0m \u001b[0mhist\u001b[0m\u001b[1;33m[\u001b[0m\u001b[1;34m'epoch'\u001b[0m\u001b[1;33m]\u001b[0m \u001b[1;33m=\u001b[0m \u001b[0mhistory\u001b[0m\u001b[1;33m.\u001b[0m\u001b[0mepoch\u001b[0m\u001b[1;33m\u001b[0m\u001b[1;33m\u001b[0m\u001b[0m\n\u001b[0;32m      4\u001b[0m \u001b[0mhist\u001b[0m\u001b[1;33m.\u001b[0m\u001b[0mtail\u001b[0m\u001b[1;33m(\u001b[0m\u001b[1;33m)\u001b[0m\u001b[1;33m\u001b[0m\u001b[1;33m\u001b[0m\u001b[0m\n\u001b[1;32m----> 5\u001b[1;33m \u001b[0mhistory\u001b[0m\u001b[1;33m.\u001b[0m\u001b[0mvalue\u001b[0m\u001b[1;33m\u001b[0m\u001b[1;33m\u001b[0m\u001b[0m\n\u001b[0m",
      "\u001b[1;31mAttributeError\u001b[0m: 'History' object has no attribute 'value'"
     ]
    }
   ],
   "source": [
    "import pandas as pd\n",
    "hist = pd.DataFrame(history.history)\n",
    "hist['epoch'] = history.epoch\n",
    "hist.tail()\n",
    "history.value"
   ]
  },
  {
   "cell_type": "code",
   "execution_count": 22,
   "metadata": {},
   "outputs": [
    {
     "data": {
      "image/png": "[encoded data removed]",
      "text/plain": [
       "<Figure size 432x288 with 1 Axes>"
      ]
     },
     "metadata": {
      "needs_background": "light"
     },
     "output_type": "display_data"
    }
   ],
   "source": [
    "x = tf.linspace(0.0, 3, 4)\n",
    "y = iris_model.predict(x)\n",
    "\n",
    "def plot_iris(x, y):\n",
    "  plt.scatter(x_vals, y_vals, label='Data')\n",
    "  plt.plot(x, y, color='k', label='Predictions')\n",
    "  plt.xlabel('Anchura del pétalo')\n",
    "  plt.ylabel('Longitud del sépalo')\n",
    "  plt.legend()\n",
    "\n",
    "plot_iris(x,y)"
   ]
  },
  {
   "cell_type": "code",
   "execution_count": null,
   "metadata": {},
   "outputs": [],
   "source": []
  }
 ],
 "metadata": {
  "kernelspec": {
   "display_name": "Python 3",
   "language": "python",
   "name": "python3"
  },
  "language_info": {
   "codemirror_mode": {
    "name": "ipython",
    "version": 3
   },
   "file_extension": ".py",
   "mimetype": "text/x-python",
   "name": "python",
   "nbconvert_exporter": "python",
   "pygments_lexer": "ipython3",
   "version": "3.7.6"
  }
 },
 "nbformat": 4,
 "nbformat_minor": 4
}
