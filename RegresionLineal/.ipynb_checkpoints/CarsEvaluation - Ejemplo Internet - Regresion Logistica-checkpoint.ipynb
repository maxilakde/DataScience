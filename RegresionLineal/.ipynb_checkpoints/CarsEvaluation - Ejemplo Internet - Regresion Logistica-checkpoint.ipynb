{
 "cells": [
  {
   "cell_type": "code",
   "execution_count": 2,
   "id": "0353c348",
   "metadata": {},
   "outputs": [],
   "source": [
    "import pandas as pd\n",
    "import numpy as np\n",
    "import tensorflow as tf\n",
    "\n",
    "import matplotlib.pyplot as plt\n",
    "%matplotlib inline"
   ]
  },
  {
   "cell_type": "code",
   "execution_count": 3,
   "id": "00c45691",
   "metadata": {},
   "outputs": [
    {
     "name": "stdout",
     "output_type": "stream",
     "text": [
      "2.3.0\n"
     ]
    }
   ],
   "source": [
    "print(tf.__version__)"
   ]
  },
  {
   "cell_type": "code",
   "execution_count": 7,
   "id": "2fee69b8",
   "metadata": {},
   "outputs": [],
   "source": [
    "cols = ['price', 'maint', 'doors', 'persons', 'lug_capacity', 'safety','output']\n",
    "cars = pd.read_csv(r'D:/DataScience/RepoGitHub/Datos/Cars/car_evaluation.csv', names=cols, header=None)"
   ]
  },
  {
   "cell_type": "code",
   "execution_count": 8,
   "id": "7ff2147c",
   "metadata": {},
   "outputs": [
    {
     "data": {
      "text/html": [
       "<div>\n",
       "<style scoped>\n",
       "    .dataframe tbody tr th:only-of-type {\n",
       "        vertical-align: middle;\n",
       "    }\n",
       "\n",
       "    .dataframe tbody tr th {\n",
       "        vertical-align: top;\n",
       "    }\n",
       "\n",
       "    .dataframe thead th {\n",
       "        text-align: right;\n",
       "    }\n",
       "</style>\n",
       "<table border=\"1\" class=\"dataframe\">\n",
       "  <thead>\n",
       "    <tr style=\"text-align: right;\">\n",
       "      <th></th>\n",
       "      <th>price</th>\n",
       "      <th>maint</th>\n",
       "      <th>doors</th>\n",
       "      <th>persons</th>\n",
       "      <th>lug_capacity</th>\n",
       "      <th>safety</th>\n",
       "      <th>output</th>\n",
       "    </tr>\n",
       "  </thead>\n",
       "  <tbody>\n",
       "    <tr>\n",
       "      <th>0</th>\n",
       "      <td>vhigh</td>\n",
       "      <td>vhigh</td>\n",
       "      <td>2</td>\n",
       "      <td>2</td>\n",
       "      <td>small</td>\n",
       "      <td>low</td>\n",
       "      <td>unacc</td>\n",
       "    </tr>\n",
       "    <tr>\n",
       "      <th>1</th>\n",
       "      <td>vhigh</td>\n",
       "      <td>vhigh</td>\n",
       "      <td>2</td>\n",
       "      <td>2</td>\n",
       "      <td>small</td>\n",
       "      <td>med</td>\n",
       "      <td>unacc</td>\n",
       "    </tr>\n",
       "    <tr>\n",
       "      <th>2</th>\n",
       "      <td>vhigh</td>\n",
       "      <td>vhigh</td>\n",
       "      <td>2</td>\n",
       "      <td>2</td>\n",
       "      <td>small</td>\n",
       "      <td>high</td>\n",
       "      <td>unacc</td>\n",
       "    </tr>\n",
       "    <tr>\n",
       "      <th>3</th>\n",
       "      <td>vhigh</td>\n",
       "      <td>vhigh</td>\n",
       "      <td>2</td>\n",
       "      <td>2</td>\n",
       "      <td>med</td>\n",
       "      <td>low</td>\n",
       "      <td>unacc</td>\n",
       "    </tr>\n",
       "    <tr>\n",
       "      <th>4</th>\n",
       "      <td>vhigh</td>\n",
       "      <td>vhigh</td>\n",
       "      <td>2</td>\n",
       "      <td>2</td>\n",
       "      <td>med</td>\n",
       "      <td>med</td>\n",
       "      <td>unacc</td>\n",
       "    </tr>\n",
       "  </tbody>\n",
       "</table>\n",
       "</div>"
      ],
      "text/plain": [
       "   price  maint doors persons lug_capacity safety output\n",
       "0  vhigh  vhigh     2       2        small    low  unacc\n",
       "1  vhigh  vhigh     2       2        small    med  unacc\n",
       "2  vhigh  vhigh     2       2        small   high  unacc\n",
       "3  vhigh  vhigh     2       2          med    low  unacc\n",
       "4  vhigh  vhigh     2       2          med    med  unacc"
      ]
     },
     "execution_count": 8,
     "metadata": {},
     "output_type": "execute_result"
    }
   ],
   "source": [
    "cars.head()"
   ]
  },
  {
   "cell_type": "code",
   "execution_count": 9,
   "id": "360075a3",
   "metadata": {},
   "outputs": [],
   "source": [
    "price = pd.get_dummies(cars.price, prefix='price')\n",
    "maint = pd.get_dummies(cars.maint, prefix='maint')\n",
    "\n",
    "doors = pd.get_dummies(cars.doors, prefix='doors')\n",
    "persons = pd.get_dummies(cars.persons, prefix='persons')\n",
    "\n",
    "lug_capacity = pd.get_dummies(cars.lug_capacity, prefix='lug_capacity')\n",
    "safety = pd.get_dummies(cars.safety, prefix='safety')\n",
    "\n",
    "labels = pd.get_dummies(cars.output, prefix='condition')"
   ]
  },
  {
   "cell_type": "code",
   "execution_count": 10,
   "id": "8c5d3986",
   "metadata": {},
   "outputs": [],
   "source": [
    "X = pd.concat([price, maint, doors, persons, lug_capacity, safety] , axis=1)"
   ]
  },
  {
   "cell_type": "code",
   "execution_count": 11,
   "id": "73da95b2",
   "metadata": {},
   "outputs": [
    {
     "data": {
      "text/plain": [
       "(1728, 21)"
      ]
     },
     "execution_count": 11,
     "metadata": {},
     "output_type": "execute_result"
    }
   ],
   "source": [
    "X.shape"
   ]
  },
  {
   "cell_type": "code",
   "execution_count": 12,
   "id": "8c44c4c9",
   "metadata": {},
   "outputs": [],
   "source": [
    "y = labels.values"
   ]
  },
  {
   "cell_type": "code",
   "execution_count": 13,
   "id": "91bf3ac4",
   "metadata": {},
   "outputs": [
    {
     "data": {
      "text/plain": [
       "array([[0, 0, 1, 0],\n",
       "       [0, 0, 1, 0],\n",
       "       [0, 0, 1, 0],\n",
       "       ...,\n",
       "       [0, 0, 1, 0],\n",
       "       [0, 1, 0, 0],\n",
       "       [0, 0, 0, 1]], dtype=uint8)"
      ]
     },
     "execution_count": 13,
     "metadata": {},
     "output_type": "execute_result"
    }
   ],
   "source": [
    "y"
   ]
  },
  {
   "cell_type": "code",
   "execution_count": 14,
   "id": "02ffdc8f",
   "metadata": {},
   "outputs": [],
   "source": [
    "from sklearn.model_selection import train_test_split\n",
    "X_train, X_test, y_train, y_test = train_test_split(X, y, test_size=0.20, random_state=42)"
   ]
  },
  {
   "cell_type": "code",
   "execution_count": 15,
   "id": "caaf7d88",
   "metadata": {},
   "outputs": [],
   "source": [
    "from tensorflow.keras.layers import Input, Dense, Activation,Dropout\n",
    "from tensorflow.keras.models import Model"
   ]
  },
  {
   "cell_type": "code",
   "execution_count": 19,
   "id": "9e27bab2",
   "metadata": {},
   "outputs": [],
   "source": [
    "input_layer = Input(shape=(X.shape[1],))\n",
    "dense_layer_1 = Dense(15, activation='relu')(input_layer)\n",
    "dense_layer_2 = Dense(10, activation='relu')(dense_layer_1)\n",
    "output = Dense(y.shape[1], activation='softmax')(dense_layer_2)\n",
    "\n",
    "model = Model(inputs=input_layer, outputs=output)\n",
    "model.compile(loss='categorical_crossentropy', optimizer='adam', metrics=['acc'])"
   ]
  },
  {
   "cell_type": "code",
   "execution_count": 20,
   "id": "fafbe611",
   "metadata": {},
   "outputs": [
    {
     "name": "stdout",
     "output_type": "stream",
     "text": [
      "Model: \"functional_3\"\n",
      "_________________________________________________________________\n",
      "Layer (type)                 Output Shape              Param #   \n",
      "=================================================================\n",
      "input_2 (InputLayer)         [(None, 21)]              0         \n",
      "_________________________________________________________________\n",
      "dense_3 (Dense)              (None, 15)                330       \n",
      "_________________________________________________________________\n",
      "dense_4 (Dense)              (None, 10)                160       \n",
      "_________________________________________________________________\n",
      "dense_5 (Dense)              (None, 4)                 44        \n",
      "=================================================================\n",
      "Total params: 534\n",
      "Trainable params: 534\n",
      "Non-trainable params: 0\n",
      "_________________________________________________________________\n",
      "None\n"
     ]
    }
   ],
   "source": [
    "print(model.summary())"
   ]
  },
  {
   "cell_type": "code",
   "execution_count": 18,
   "id": "63510eed",
   "metadata": {},
   "outputs": [
    {
     "name": "stdout",
     "output_type": "stream",
     "text": [
      "Epoch 1/50\n",
      "139/139 [==============================] - 0s 2ms/step - loss: 0.9744 - acc: 0.6760 - val_loss: 0.8465 - val_acc: 0.6498\n",
      "Epoch 2/50\n",
      "139/139 [==============================] - 0s 1ms/step - loss: 0.6246 - acc: 0.7339 - val_loss: 0.6377 - val_acc: 0.7184\n",
      "Epoch 3/50\n",
      "139/139 [==============================] - 0s 1ms/step - loss: 0.4695 - acc: 0.8208 - val_loss: 0.5064 - val_acc: 0.8014\n",
      "Epoch 4/50\n",
      "139/139 [==============================] - 0s 1ms/step - loss: 0.3729 - acc: 0.8670 - val_loss: 0.4349 - val_acc: 0.8159\n",
      "Epoch 5/50\n",
      "139/139 [==============================] - 0s 1ms/step - loss: 0.3187 - acc: 0.8805 - val_loss: 0.3842 - val_acc: 0.8412\n",
      "Epoch 6/50\n",
      "139/139 [==============================] - 0s 1ms/step - loss: 0.2845 - acc: 0.8896 - val_loss: 0.3443 - val_acc: 0.8736\n",
      "Epoch 7/50\n",
      "139/139 [==============================] - 0s 1ms/step - loss: 0.2595 - acc: 0.8923 - val_loss: 0.3246 - val_acc: 0.8736\n",
      "Epoch 8/50\n",
      "139/139 [==============================] - 0s 1ms/step - loss: 0.2386 - acc: 0.9023 - val_loss: 0.3020 - val_acc: 0.8736\n",
      "Epoch 9/50\n",
      "139/139 [==============================] - 0s 1ms/step - loss: 0.2182 - acc: 0.9059 - val_loss: 0.2803 - val_acc: 0.8736\n",
      "Epoch 10/50\n",
      "139/139 [==============================] - 0s 1ms/step - loss: 0.1994 - acc: 0.9131 - val_loss: 0.2621 - val_acc: 0.8845\n",
      "Epoch 11/50\n",
      "139/139 [==============================] - 0s 1ms/step - loss: 0.1861 - acc: 0.9213 - val_loss: 0.2375 - val_acc: 0.8989\n",
      "Epoch 12/50\n",
      "139/139 [==============================] - 0s 1ms/step - loss: 0.1682 - acc: 0.9348 - val_loss: 0.2214 - val_acc: 0.9097\n",
      "Epoch 13/50\n",
      "139/139 [==============================] - 0s 1ms/step - loss: 0.1550 - acc: 0.9357 - val_loss: 0.2090 - val_acc: 0.9097\n",
      "Epoch 14/50\n",
      "139/139 [==============================] - 0s 1ms/step - loss: 0.1428 - acc: 0.9575 - val_loss: 0.1979 - val_acc: 0.9134\n",
      "Epoch 15/50\n",
      "139/139 [==============================] - 0s 1ms/step - loss: 0.1324 - acc: 0.9620 - val_loss: 0.1789 - val_acc: 0.9314\n",
      "Epoch 16/50\n",
      "139/139 [==============================] - 0s 1ms/step - loss: 0.1246 - acc: 0.9647 - val_loss: 0.1741 - val_acc: 0.9242\n",
      "Epoch 17/50\n",
      "139/139 [==============================] - 0s 1ms/step - loss: 0.1169 - acc: 0.9701 - val_loss: 0.1757 - val_acc: 0.9350\n",
      "Epoch 18/50\n",
      "139/139 [==============================] - 0s 1ms/step - loss: 0.1084 - acc: 0.9729 - val_loss: 0.1707 - val_acc: 0.9350\n",
      "Epoch 19/50\n",
      "139/139 [==============================] - 0s 1ms/step - loss: 0.1025 - acc: 0.9747 - val_loss: 0.1511 - val_acc: 0.9278\n",
      "Epoch 20/50\n",
      "139/139 [==============================] - 0s 1ms/step - loss: 0.0960 - acc: 0.9783 - val_loss: 0.1478 - val_acc: 0.9278\n",
      "Epoch 21/50\n",
      "139/139 [==============================] - 0s 1ms/step - loss: 0.0916 - acc: 0.9783 - val_loss: 0.1483 - val_acc: 0.9350\n",
      "Epoch 22/50\n",
      "139/139 [==============================] - 0s 1ms/step - loss: 0.0862 - acc: 0.9783 - val_loss: 0.1369 - val_acc: 0.9458\n",
      "Epoch 23/50\n",
      "139/139 [==============================] - 0s 1ms/step - loss: 0.0811 - acc: 0.9783 - val_loss: 0.1438 - val_acc: 0.9422\n",
      "Epoch 24/50\n",
      "139/139 [==============================] - 0s 1ms/step - loss: 0.0772 - acc: 0.9810 - val_loss: 0.1402 - val_acc: 0.9458\n",
      "Epoch 25/50\n",
      "139/139 [==============================] - 0s 1ms/step - loss: 0.0742 - acc: 0.9810 - val_loss: 0.1241 - val_acc: 0.9422\n",
      "Epoch 26/50\n",
      "139/139 [==============================] - 0s 1ms/step - loss: 0.0692 - acc: 0.9855 - val_loss: 0.1411 - val_acc: 0.9350\n",
      "Epoch 27/50\n",
      "139/139 [==============================] - 0s 1ms/step - loss: 0.0671 - acc: 0.9837 - val_loss: 0.1202 - val_acc: 0.9531\n",
      "Epoch 28/50\n",
      "139/139 [==============================] - 0s 1ms/step - loss: 0.0636 - acc: 0.9846 - val_loss: 0.1194 - val_acc: 0.9531\n",
      "Epoch 29/50\n",
      "139/139 [==============================] - 0s 1ms/step - loss: 0.0600 - acc: 0.9873 - val_loss: 0.1155 - val_acc: 0.9458\n",
      "Epoch 30/50\n",
      "139/139 [==============================] - 0s 1ms/step - loss: 0.0594 - acc: 0.9873 - val_loss: 0.1078 - val_acc: 0.9567\n",
      "Epoch 31/50\n",
      "139/139 [==============================] - 0s 1ms/step - loss: 0.0566 - acc: 0.9873 - val_loss: 0.1182 - val_acc: 0.9567\n",
      "Epoch 32/50\n",
      "139/139 [==============================] - 0s 1ms/step - loss: 0.0522 - acc: 0.9910 - val_loss: 0.1155 - val_acc: 0.9531\n",
      "Epoch 33/50\n",
      "139/139 [==============================] - 0s 1ms/step - loss: 0.0506 - acc: 0.9864 - val_loss: 0.1045 - val_acc: 0.9531\n",
      "Epoch 34/50\n",
      "139/139 [==============================] - 0s 1ms/step - loss: 0.0484 - acc: 0.9900 - val_loss: 0.1120 - val_acc: 0.9567\n",
      "Epoch 35/50\n",
      "139/139 [==============================] - 0s 1ms/step - loss: 0.0453 - acc: 0.9891 - val_loss: 0.0963 - val_acc: 0.9495\n",
      "Epoch 36/50\n",
      "139/139 [==============================] - 0s 1ms/step - loss: 0.0421 - acc: 0.9928 - val_loss: 0.1079 - val_acc: 0.9567\n",
      "Epoch 37/50\n",
      "139/139 [==============================] - 0s 1ms/step - loss: 0.0410 - acc: 0.9910 - val_loss: 0.1107 - val_acc: 0.9531\n",
      "Epoch 38/50\n",
      "139/139 [==============================] - 0s 1ms/step - loss: 0.0395 - acc: 0.9928 - val_loss: 0.0959 - val_acc: 0.9531\n",
      "Epoch 39/50\n",
      "139/139 [==============================] - 0s 1ms/step - loss: 0.0373 - acc: 0.9955 - val_loss: 0.0995 - val_acc: 0.9567\n",
      "Epoch 40/50\n",
      "139/139 [==============================] - 0s 1ms/step - loss: 0.0343 - acc: 0.9937 - val_loss: 0.1031 - val_acc: 0.9531\n",
      "Epoch 41/50\n",
      "139/139 [==============================] - 0s 1ms/step - loss: 0.0343 - acc: 0.9946 - val_loss: 0.0929 - val_acc: 0.9531\n",
      "Epoch 42/50\n",
      "139/139 [==============================] - 0s 1ms/step - loss: 0.0312 - acc: 0.9973 - val_loss: 0.0915 - val_acc: 0.9603\n",
      "Epoch 43/50\n",
      "139/139 [==============================] - 0s 1ms/step - loss: 0.0308 - acc: 0.9937 - val_loss: 0.0875 - val_acc: 0.9495\n",
      "Epoch 44/50\n",
      "139/139 [==============================] - 0s 1ms/step - loss: 0.0280 - acc: 0.9973 - val_loss: 0.0959 - val_acc: 0.9603\n",
      "Epoch 45/50\n",
      "139/139 [==============================] - 0s 1ms/step - loss: 0.0277 - acc: 0.9964 - val_loss: 0.0895 - val_acc: 0.9603\n",
      "Epoch 46/50\n",
      "139/139 [==============================] - 0s 1ms/step - loss: 0.0260 - acc: 0.9964 - val_loss: 0.0995 - val_acc: 0.9495\n",
      "Epoch 47/50\n",
      "139/139 [==============================] - 0s 1ms/step - loss: 0.0249 - acc: 0.9955 - val_loss: 0.0925 - val_acc: 0.9603\n",
      "Epoch 48/50\n",
      "139/139 [==============================] - 0s 1ms/step - loss: 0.0233 - acc: 0.9982 - val_loss: 0.0902 - val_acc: 0.9495\n",
      "Epoch 49/50\n",
      "139/139 [==============================] - 0s 1ms/step - loss: 0.0221 - acc: 0.9982 - val_loss: 0.0912 - val_acc: 0.9603\n",
      "Epoch 50/50\n",
      "139/139 [==============================] - 0s 1ms/step - loss: 0.0206 - acc: 1.0000 - val_loss: 0.0875 - val_acc: 0.9567\n"
     ]
    }
   ],
   "source": [
    "history = model.fit(X_train, y_train, batch_size=8, epochs=50, verbose=1, validation_split=0.2)"
   ]
  },
  {
   "cell_type": "code",
   "execution_count": null,
   "id": "76ec7c20",
   "metadata": {},
   "outputs": [],
   "source": []
  }
 ],
 "metadata": {
  "kernelspec": {
   "display_name": "Python 3",
   "language": "python",
   "name": "python3"
  },
  "language_info": {
   "codemirror_mode": {
    "name": "ipython",
    "version": 3
   },
   "file_extension": ".py",
   "mimetype": "text/x-python",
   "name": "python",
   "nbconvert_exporter": "python",
   "pygments_lexer": "ipython3",
   "version": "3.7.10"
  }
 },
 "nbformat": 4,
 "nbformat_minor": 5
}
